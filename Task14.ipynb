{
 "cells": [
  {
   "cell_type": "markdown",
   "id": "5ad755b7",
   "metadata": {},
   "source": [
    "1.Create a lambda function that takes two arguments and returns their sum.\n",
    "Create another lambda function that takes a single argument and returns its square.\n",
    "Use the lambda functions to calculate the sum and square of various numbers and print the results."
   ]
  },
  {
   "cell_type": "code",
   "execution_count": 1,
   "id": "53ea26b5",
   "metadata": {},
   "outputs": [],
   "source": [
    " c = lambda a,b : a+b"
   ]
  },
  {
   "cell_type": "code",
   "execution_count": 2,
   "id": "07655f39",
   "metadata": {},
   "outputs": [
    {
     "data": {
      "text/plain": [
       "18"
      ]
     },
     "execution_count": 2,
     "metadata": {},
     "output_type": "execute_result"
    }
   ],
   "source": [
    "c(10,8)"
   ]
  },
  {
   "cell_type": "code",
   "execution_count": 3,
   "id": "56b0630e",
   "metadata": {},
   "outputs": [],
   "source": [
    "a = lambda n : n ** 2"
   ]
  },
  {
   "cell_type": "code",
   "execution_count": 4,
   "id": "1cab958c",
   "metadata": {},
   "outputs": [
    {
     "data": {
      "text/plain": [
       "64"
      ]
     },
     "execution_count": 4,
     "metadata": {},
     "output_type": "execute_result"
    }
   ],
   "source": [
    "a(8)"
   ]
  },
  {
   "cell_type": "code",
   "execution_count": 5,
   "id": "6ceb8828",
   "metadata": {},
   "outputs": [
    {
     "name": "stdout",
     "output_type": "stream",
     "text": [
      "18\n",
      "64\n"
     ]
    }
   ],
   "source": [
    "a = lambda *n : sum(n)\n",
    "b = lambda n : n ** 2\n",
    "print(a(10,8))\n",
    "print(b(8))"
   ]
  },
  {
   "cell_type": "markdown",
   "id": "da7e02ca",
   "metadata": {},
   "source": [
    "2\n",
    "Define a list of integers.\n",
    "\n",
    "Use the filter function to create a new list that contains only the even numbers from the original list.\n",
    "\n",
    "Use the filter function again to create a new list that contains only numbers greater than 10 from the original list. Print both filtered lists."
   ]
  },
  {
   "cell_type": "code",
   "execution_count": 6,
   "id": "9ac62ff1",
   "metadata": {},
   "outputs": [],
   "source": [
    "list1 = [18,21,57,77,6,2,9,20,]"
   ]
  },
  {
   "cell_type": "code",
   "execution_count": 7,
   "id": "c6e523f4",
   "metadata": {},
   "outputs": [],
   "source": [
    "def even(n):\n",
    "    if (n % 2 == 0):\n",
    "        return n\n",
    "def func(n):\n",
    "    if n > 10:\n",
    "        return n"
   ]
  },
  {
   "cell_type": "code",
   "execution_count": 8,
   "id": "4c3f210a",
   "metadata": {},
   "outputs": [],
   "source": [
    "a = list(filter(even,list1))\n",
    "b = list(filter(func,list1))"
   ]
  },
  {
   "cell_type": "code",
   "execution_count": 9,
   "id": "fda8d656",
   "metadata": {},
   "outputs": [
    {
     "data": {
      "text/plain": [
       "[18, 6, 2, 20]"
      ]
     },
     "execution_count": 9,
     "metadata": {},
     "output_type": "execute_result"
    }
   ],
   "source": [
    "a"
   ]
  },
  {
   "cell_type": "code",
   "execution_count": 10,
   "id": "2f226132",
   "metadata": {},
   "outputs": [
    {
     "data": {
      "text/plain": [
       "[18, 21, 57, 77, 20]"
      ]
     },
     "execution_count": 10,
     "metadata": {},
     "output_type": "execute_result"
    }
   ],
   "source": [
    "b"
   ]
  },
  {
   "cell_type": "markdown",
   "id": "81457835",
   "metadata": {},
   "source": [
    "3\n",
    "Define a list of strings where each string represents a number (e.g., [\"1\", \"2\", \"3\"]).\n",
    "\n",
    "Use the map function to convert each string to an integer and store the result in a new list.\n",
    "\n",
    "Use the map function again to square each integer in the new list and store the result in another new list. Print both new lists."
   ]
  },
  {
   "cell_type": "code",
   "execution_count": 12,
   "id": "3367ae71",
   "metadata": {},
   "outputs": [],
   "source": [
    "def string(n):\n",
    "    if a[0] == int(n):\n",
    "        return n\n",
    "a = [\"1\",\"2\",\"3\",\"4\",\"5\",\"6\",\"7\",\"8\",\"9\"]\n",
    "new_list = list(map(int,a))"
   ]
  },
  {
   "cell_type": "code",
   "execution_count": 13,
   "id": "233e3754",
   "metadata": {},
   "outputs": [
    {
     "data": {
      "text/plain": [
       "[1, 2, 3, 4, 5, 6, 7, 8, 9]"
      ]
     },
     "execution_count": 13,
     "metadata": {},
     "output_type": "execute_result"
    }
   ],
   "source": [
    "new_list"
   ]
  },
  {
   "cell_type": "code",
   "execution_count": 16,
   "id": "7242b344",
   "metadata": {},
   "outputs": [],
   "source": [
    "def square(n):\n",
    "    return n**2\n",
    "square_list = list(map(square,new_list))"
   ]
  },
  {
   "cell_type": "code",
   "execution_count": 17,
   "id": "2ffce327",
   "metadata": {},
   "outputs": [
    {
     "data": {
      "text/plain": [
       "[1, 4, 9, 16, 25, 36, 49, 64, 81]"
      ]
     },
     "execution_count": 17,
     "metadata": {},
     "output_type": "execute_result"
    }
   ],
   "source": [
    "square_list"
   ]
  },
  {
   "cell_type": "code",
   "execution_count": 18,
   "id": "43302286",
   "metadata": {},
   "outputs": [
    {
     "data": {
      "text/plain": [
       "[1, 2, 3, 4, 5, 6, 7, 8, 9, 1, 4, 9, 16, 25, 36, 49, 64, 81]"
      ]
     },
     "execution_count": 18,
     "metadata": {},
     "output_type": "execute_result"
    }
   ],
   "source": [
    "new_list + square_list"
   ]
  },
  {
   "cell_type": "markdown",
   "id": "94f01aef",
   "metadata": {},
   "source": [
    "4\n",
    "Create a list of dictionaries, where each dictionary represents a person with keys \"name\" and \"age\". Example: [{\"name\": \"Alice\", \"age\": 30}, {\"name\": \"Bob\", \"age\": 25}, ...]\n",
    "\n",
    "Use the filter function to create a new list that contains only the people who are older than 25.\n",
    "\n",
    "Use the map function to create a new list that contains the names of the filtered people. Print the list of names."
   ]
  },
  {
   "cell_type": "code",
   "execution_count": 19,
   "id": "fcf3159e",
   "metadata": {},
   "outputs": [],
   "source": [
    "def name(n):\n",
    "    if n[\"age\"] > 25:\n",
    "        return n\n",
    "list1 = [{\"name\" : \"virat\" , \"age\" : 34},{\"name\" : \"sourav\" , \"age\" : 26}, {\"name\" : \"vrushab\" , \"age\" : 28}]\n",
    "a = list(filter(name,list1))"
   ]
  },
  {
   "cell_type": "code",
   "execution_count": 20,
   "id": "18a7dedc",
   "metadata": {},
   "outputs": [
    {
     "data": {
      "text/plain": [
       "[{'name': 'virat', 'age': 34},\n",
       " {'name': 'sourav', 'age': 26},\n",
       " {'name': 'vrushab', 'age': 28}]"
      ]
     },
     "execution_count": 20,
     "metadata": {},
     "output_type": "execute_result"
    }
   ],
   "source": [
    "a"
   ]
  },
  {
   "cell_type": "code",
   "execution_count": 21,
   "id": "33228ecd",
   "metadata": {},
   "outputs": [
    {
     "data": {
      "text/plain": [
       "[{'name': 'virat'}, {'name': 'sourav'}, {'name': 'vrushab'}]"
      ]
     },
     "execution_count": 21,
     "metadata": {},
     "output_type": "execute_result"
    }
   ],
   "source": [
    "def name1(n):\n",
    "    return {\"name\" : n[\"name\"]}\n",
    "list(map(name1,a))"
   ]
  },
  {
   "cell_type": "markdown",
   "id": "4b6a4a17",
   "metadata": {},
   "source": [
    "5\n",
    "Create a program that reads a list of numbers from the user (you can use the input function for this).\n",
    "\n",
    "Use map and filter functions to perform the following operations:\n",
    "\n",
    "Square each number.\n",
    "\n",
    "Filter out numbers that are not divisible by 3.\n",
    "\n",
    "Print the result."
   ]
  },
  {
   "cell_type": "code",
   "execution_count": 22,
   "id": "444d6e87",
   "metadata": {},
   "outputs": [],
   "source": [
    "def square(n):\n",
    "    return n ** 2"
   ]
  },
  {
   "cell_type": "code",
   "execution_count": 23,
   "id": "2d7aa99b",
   "metadata": {},
   "outputs": [
    {
     "name": "stdout",
     "output_type": "stream",
     "text": [
      "enter the integers you want :: 4\n",
      "enter the number :: 2\n",
      "enter the number :: 3\n",
      "enter the number :: 4\n",
      "enter the number :: 3\n",
      "[2, 3, 4, 3]\n"
     ]
    }
   ],
   "source": [
    "list1 = []\n",
    "num = int(input(\"enter the integers you want :: \"))\n",
    "for i in range (1,num+1):\n",
    "    a = int(input(\"enter the number :: \"))\n",
    "    list1.append(a)\n",
    "print(list1)"
   ]
  },
  {
   "cell_type": "code",
   "execution_count": 24,
   "id": "f165b158",
   "metadata": {},
   "outputs": [
    {
     "data": {
      "text/plain": [
       "[4, 9, 16, 9]"
      ]
     },
     "execution_count": 24,
     "metadata": {},
     "output_type": "execute_result"
    }
   ],
   "source": [
    "list(map(square,list1))"
   ]
  },
  {
   "cell_type": "code",
   "execution_count": 25,
   "id": "6479d874",
   "metadata": {},
   "outputs": [],
   "source": [
    "def div(n):\n",
    "    if (n % 3 != 0):\n",
    "        print (n)"
   ]
  },
  {
   "cell_type": "code",
   "execution_count": 26,
   "id": "f3067e23",
   "metadata": {},
   "outputs": [
    {
     "name": "stdout",
     "output_type": "stream",
     "text": [
      "2\n",
      "4\n"
     ]
    },
    {
     "data": {
      "text/plain": [
       "2"
      ]
     },
     "execution_count": 26,
     "metadata": {},
     "output_type": "execute_result"
    }
   ],
   "source": [
    "list(filter(div,list1))\n",
    "2"
   ]
  },
  {
   "cell_type": "markdown",
   "id": "569850ad",
   "metadata": {},
   "source": [
    "#Take combination of numbers take integers float and string and print only float values. 2. print only strings\n",
    "\n",
    "in the place of integer values or replace integer values with a name is called integer."
   ]
  },
  {
   "cell_type": "code",
   "execution_count": 27,
   "id": "8f7361ad",
   "metadata": {},
   "outputs": [],
   "source": [
    "val = (10,18,0.5,1.8,\"virat\",\"sourav\",2.5,30)"
   ]
  },
  {
   "cell_type": "code",
   "execution_count": 28,
   "id": "b9755cac",
   "metadata": {},
   "outputs": [
    {
     "data": {
      "text/plain": [
       "[0.5, 1.8, 2.5]"
      ]
     },
     "execution_count": 28,
     "metadata": {},
     "output_type": "execute_result"
    }
   ],
   "source": [
    "def var(a):\n",
    "    if type(a) == float:\n",
    "        return val\n",
    "list(filter(var,val))"
   ]
  },
  {
   "cell_type": "code",
   "execution_count": 29,
   "id": "a5585fbc",
   "metadata": {},
   "outputs": [
    {
     "data": {
      "text/plain": [
       "['virat', 'sourav']"
      ]
     },
     "execution_count": 29,
     "metadata": {},
     "output_type": "execute_result"
    }
   ],
   "source": [
    "def var(a):\n",
    "    if type(a) == str:\n",
    "        return val\n",
    "list(filter(var,val))"
   ]
  },
  {
   "cell_type": "code",
   "execution_count": 30,
   "id": "f7ac6a6b",
   "metadata": {},
   "outputs": [
    {
     "data": {
      "text/plain": [
       "['Integer',\n",
       " 'Integer',\n",
       " 'Float',\n",
       " 'Float',\n",
       " 'String',\n",
       " 'String',\n",
       " 'Float',\n",
       " 'Integer']"
      ]
     },
     "execution_count": 30,
     "metadata": {},
     "output_type": "execute_result"
    }
   ],
   "source": [
    "def var(a):\n",
    "    if type(a) == int:\n",
    "        return \"Integer\"\n",
    "    elif type(a) == str :\n",
    "        return \"String\"\n",
    "    else:\n",
    "        return \"Float\"\n",
    "\n",
    "list(map(var,val))"
   ]
  },
  {
   "cell_type": "code",
   "execution_count": null,
   "id": "ce07b788",
   "metadata": {},
   "outputs": [],
   "source": []
  }
 ],
 "metadata": {
  "kernelspec": {
   "display_name": "Python 3 (ipykernel)",
   "language": "python",
   "name": "python3"
  },
  "language_info": {
   "codemirror_mode": {
    "name": "ipython",
    "version": 3
   },
   "file_extension": ".py",
   "mimetype": "text/x-python",
   "name": "python",
   "nbconvert_exporter": "python",
   "pygments_lexer": "ipython3",
   "version": "3.11.4"
  }
 },
 "nbformat": 4,
 "nbformat_minor": 5
}
